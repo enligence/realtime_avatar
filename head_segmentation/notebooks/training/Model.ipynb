{
 "cells": [
  {
   "cell_type": "markdown",
   "id": "83b1fa69-6ac5-412c-9e02-781d0717f279",
   "metadata": {},
   "source": [
    "# Model class"
   ]
  },
  {
   "cell_type": "code",
   "execution_count": 2,
   "id": "5a31cb13-6263-4ac4-b051-80a645e74367",
   "metadata": {},
   "outputs": [],
   "source": [
    "import os\n",
    "\n",
    "os.chdir(\"../..\")"
   ]
  },
  {
   "cell_type": "code",
   "execution_count": 3,
   "id": "9695cc64-4e06-4d3f-8d17-694f9f494c00",
   "metadata": {},
   "outputs": [
    {
     "name": "stdout",
     "output_type": "stream",
     "text": [
      "/home/shades/GitRepos/head-segmentation\n"
     ]
    }
   ],
   "source": [
    "!pwd"
   ]
  },
  {
   "cell_type": "code",
   "execution_count": 4,
   "id": "50db69ec-c881-4ea7-9bc7-69af38cf6d90",
   "metadata": {},
   "outputs": [
    {
     "name": "stderr",
     "output_type": "stream",
     "text": [
      "/home/shades/GitRepos/head-segmentation/venv/lib/python3.8/site-packages/tqdm/auto.py:22: TqdmWarning: IProgress not found. Please update jupyter and ipywidgets. See https://ipywidgets.readthedocs.io/en/stable/user_install.html\n",
      "  from .autonotebook import tqdm as notebook_tqdm\n"
     ]
    }
   ],
   "source": [
    "import head_segmentation.image_processing as ip\n",
    "import head_segmentation.model as mdl\n",
    "\n",
    "from scripts.training import augmentations as aug\n",
    "from scripts.training import data_loading as dl\n",
    "\n",
    "%load_ext autoreload\n",
    "%autoreload 2"
   ]
  },
  {
   "cell_type": "code",
   "execution_count": 5,
   "id": "28c65087-43a5-4a5e-994e-620ecdeb4deb",
   "metadata": {},
   "outputs": [],
   "source": [
    "DATASET_PATH = os.path.join(os.getcwd(), \"data\", \"dataset\", \"train\")\n",
    "\n",
    "aug_pipeline = aug.AugmentationPipeline()\n",
    "\n",
    "dataset = dl.CelebAHeadSegmentationDataset(\n",
    "    dataset_root=DATASET_PATH, \n",
    "    augmentation_pipeline=aug_pipeline,\n",
    "    preprocess_pipeline=ip.PreprocessingPipeline(nn_image_input_resolution=256),\n",
    ")"
   ]
  },
  {
   "cell_type": "code",
   "execution_count": 6,
   "id": "fd13cbb1-441f-4b55-9c9c-027f63036b7c",
   "metadata": {},
   "outputs": [],
   "source": [
    "model = mdl.HeadSegmentationModel(encoder_name=\"mobilenet_v2\", encoder_depth=3, pretrained=True, nn_image_input_resolution=256)"
   ]
  },
  {
   "cell_type": "code",
   "execution_count": 7,
   "id": "579aef98-3ee1-4877-b2a6-0d9ce6c0759d",
   "metadata": {},
   "outputs": [],
   "source": [
    "img, segmap = dataset[123]"
   ]
  },
  {
   "cell_type": "code",
   "execution_count": 8,
   "id": "db63749a-e8d8-4e42-b481-1cc1dfac2a4e",
   "metadata": {},
   "outputs": [
    {
     "data": {
      "text/plain": [
       "torch.Tensor"
      ]
     },
     "execution_count": 8,
     "metadata": {},
     "output_type": "execute_result"
    }
   ],
   "source": [
    "type(segmap)"
   ]
  },
  {
   "cell_type": "code",
   "execution_count": 9,
   "id": "07fea196-16a7-4de7-9c77-dd7e30ed5a77",
   "metadata": {},
   "outputs": [
    {
     "data": {
      "text/plain": [
       "torch.Size([3, 256, 256])"
      ]
     },
     "execution_count": 9,
     "metadata": {},
     "output_type": "execute_result"
    }
   ],
   "source": [
    "img.shape"
   ]
  },
  {
   "cell_type": "code",
   "execution_count": 10,
   "id": "d36ab280-544e-4ac3-8499-52aff0ef1732",
   "metadata": {},
   "outputs": [
    {
     "data": {
      "text/plain": [
       "torch.Size([256, 256])"
      ]
     },
     "execution_count": 10,
     "metadata": {},
     "output_type": "execute_result"
    }
   ],
   "source": [
    "segmap.shape"
   ]
  },
  {
   "cell_type": "code",
   "execution_count": 11,
   "id": "ac8d6930-e86a-4457-b54f-82190d6fa865",
   "metadata": {},
   "outputs": [
    {
     "data": {
      "text/plain": [
       "torch.int64"
      ]
     },
     "execution_count": 11,
     "metadata": {},
     "output_type": "execute_result"
    }
   ],
   "source": [
    "segmap.dtype"
   ]
  },
  {
   "cell_type": "code",
   "execution_count": 12,
   "id": "50695fc6-6aea-4534-b6f1-ef504cd0dd1e",
   "metadata": {},
   "outputs": [
    {
     "data": {
      "text/plain": [
       "tensor(1)"
      ]
     },
     "execution_count": 12,
     "metadata": {},
     "output_type": "execute_result"
    }
   ],
   "source": [
    "segmap.max()"
   ]
  },
  {
   "cell_type": "code",
   "execution_count": 13,
   "id": "ad3179a6-e2be-4bb5-9d0e-0beb8909d6b5",
   "metadata": {},
   "outputs": [
    {
     "data": {
      "text/plain": [
       "tensor(0)"
      ]
     },
     "execution_count": 13,
     "metadata": {},
     "output_type": "execute_result"
    }
   ],
   "source": [
    "segmap.min()"
   ]
  },
  {
   "cell_type": "code",
   "execution_count": 14,
   "id": "0032c274-2568-4da4-9c29-fd4a50c00bbc",
   "metadata": {},
   "outputs": [],
   "source": [
    "mock_batch = img.unsqueeze(dim=0)\n",
    "\n",
    "mdl_output = model.forward(mock_batch)"
   ]
  },
  {
   "cell_type": "code",
   "execution_count": 15,
   "id": "122e0698-6cc9-487f-93e0-9f2505150d80",
   "metadata": {},
   "outputs": [
    {
     "data": {
      "text/plain": [
       "torch.Size([1, 2, 256, 256])"
      ]
     },
     "execution_count": 15,
     "metadata": {},
     "output_type": "execute_result"
    }
   ],
   "source": [
    "mdl_output.shape"
   ]
  },
  {
   "cell_type": "code",
   "execution_count": 16,
   "id": "88ff9fd4-ea09-4764-93d9-ff1235d48f47",
   "metadata": {},
   "outputs": [
    {
     "data": {
      "text/plain": [
       "tensor([[-0.0180, -0.4212, -0.2913,  ..., -0.6548, -0.2154, -0.0144],\n",
       "        [ 0.2661,  0.9571,  0.1513,  ..., -0.7586,  0.0577,  0.3655],\n",
       "        [-0.8122, -0.2405, -0.0817,  ..., -1.2359, -0.3743,  0.8207],\n",
       "        ...,\n",
       "        [-0.7020,  0.2257,  0.3691,  ..., -0.4141, -0.4623,  0.6345],\n",
       "        [-0.2151,  0.5082,  0.1957,  ..., -0.7760, -0.7780,  0.4946],\n",
       "        [-0.2042,  0.0710, -0.7580,  ..., -0.9306, -1.1687,  0.3237]],\n",
       "       grad_fn=<SliceBackward0>)"
      ]
     },
     "execution_count": 16,
     "metadata": {},
     "output_type": "execute_result"
    }
   ],
   "source": [
    "# Model output to loss function\n",
    "mdl_output[0,1,:,:]"
   ]
  },
  {
   "cell_type": "code",
   "execution_count": 17,
   "id": "8e45d91c-0cd5-49c5-bbe1-332f00c85d05",
   "metadata": {},
   "outputs": [],
   "source": [
    "def postprocessing(model_output):\n",
    "    model_output = model_output.squeeze()\n",
    "    segmap = model_output.argmax(dim=0)\n",
    "    \n",
    "    return segmap"
   ]
  },
  {
   "cell_type": "code",
   "execution_count": 18,
   "id": "7797b00e-229a-4d1e-907a-4a2e929a0934",
   "metadata": {},
   "outputs": [],
   "source": [
    "mdl_output = postprocessing(mdl_output)"
   ]
  },
  {
   "cell_type": "code",
   "execution_count": 19,
   "id": "faab946e-2048-470f-9fdf-c5ed84198be7",
   "metadata": {},
   "outputs": [
    {
     "data": {
      "text/plain": [
       "torch.Size([256, 256])"
      ]
     },
     "execution_count": 19,
     "metadata": {},
     "output_type": "execute_result"
    }
   ],
   "source": [
    "mdl_output.shape"
   ]
  },
  {
   "cell_type": "code",
   "execution_count": 20,
   "id": "f29a081b-1792-46cd-a59b-cd26c4417a52",
   "metadata": {},
   "outputs": [
    {
     "data": {
      "text/plain": [
       "tensor([[0, 1, 0,  ..., 0, 0, 1],\n",
       "        [1, 1, 1,  ..., 0, 1, 1],\n",
       "        [0, 1, 0,  ..., 0, 0, 1],\n",
       "        ...,\n",
       "        [0, 1, 1,  ..., 0, 0, 1],\n",
       "        [0, 1, 1,  ..., 0, 0, 1],\n",
       "        [0, 0, 0,  ..., 0, 0, 1]])"
      ]
     },
     "execution_count": 20,
     "metadata": {},
     "output_type": "execute_result"
    }
   ],
   "source": [
    "mdl_output"
   ]
  },
  {
   "cell_type": "code",
   "execution_count": 1,
   "id": "39a2bc8a-d37f-43f7-9bcc-95f3bc9125fc",
   "metadata": {},
   "outputs": [
    {
     "ename": "NameError",
     "evalue": "name 'model' is not defined",
     "output_type": "error",
     "traceback": [
      "\u001b[0;31m---------------------------------------------------------------------------\u001b[0m",
      "\u001b[0;31mNameError\u001b[0m                                 Traceback (most recent call last)",
      "Input \u001b[0;32mIn [1]\u001b[0m, in \u001b[0;36m<cell line: 1>\u001b[0;34m()\u001b[0m\n\u001b[0;32m----> 1\u001b[0m \u001b[43mmodel\u001b[49m\n",
      "\u001b[0;31mNameError\u001b[0m: name 'model' is not defined"
     ]
    }
   ],
   "source": [
    "model"
   ]
  }
 ],
 "metadata": {
  "kernelspec": {
   "display_name": "Python 3 (ipykernel)",
   "language": "python",
   "name": "python3"
  },
  "language_info": {
   "codemirror_mode": {
    "name": "ipython",
    "version": 3
   },
   "file_extension": ".py",
   "mimetype": "text/x-python",
   "name": "python",
   "nbconvert_exporter": "python",
   "pygments_lexer": "ipython3",
   "version": "3.8.10"
  }
 },
 "nbformat": 4,
 "nbformat_minor": 5
}
