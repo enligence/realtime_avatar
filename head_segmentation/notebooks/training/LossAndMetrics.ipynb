{
 "cells": [
  {
   "cell_type": "code",
   "execution_count": 1,
   "id": "eddbc393-e8f3-4413-8be2-3bedca231bf0",
   "metadata": {},
   "outputs": [
    {
     "name": "stderr",
     "output_type": "stream",
     "text": [
      "/home/shades/GitRepos/head-segmentation/venv/lib/python3.8/site-packages/tqdm/auto.py:22: TqdmWarning: IProgress not found. Please update jupyter and ipywidgets. See https://ipywidgets.readthedocs.io/en/stable/user_install.html\n",
      "  from .autonotebook import tqdm as notebook_tqdm\n"
     ]
    }
   ],
   "source": [
    "import torch\n",
    "import torch.nn as nn\n",
    "from torch.nn import CrossEntropyLoss"
   ]
  },
  {
   "cell_type": "code",
   "execution_count": 2,
   "id": "6106c8c4-439d-4a33-b1b0-9fd86e6f5097",
   "metadata": {},
   "outputs": [],
   "source": [
    "mock_inp = torch.tensor([[[0.2406, -0.4713],[0.3808, 0.7049]],[[0.5114, 0.0699],[-0.3723, -0.6597]]], dtype=torch.float)"
   ]
  },
  {
   "cell_type": "code",
   "execution_count": 30,
   "id": "e50b17bb-43fb-4fb9-8afc-dca56bfedcb8",
   "metadata": {},
   "outputs": [
    {
     "data": {
      "text/plain": [
       "torch.Size([2, 2, 2])"
      ]
     },
     "execution_count": 30,
     "metadata": {},
     "output_type": "execute_result"
    }
   ],
   "source": [
    "mock_inp.shape"
   ]
  },
  {
   "cell_type": "code",
   "execution_count": 10,
   "id": "c88b2497-a27f-4b7f-88f8-03efa0085722",
   "metadata": {},
   "outputs": [],
   "source": [
    "probs = mock_inp.softmax(0)"
   ]
  },
  {
   "cell_type": "code",
   "execution_count": 45,
   "id": "74ea9a83-869c-4b2a-a121-51b4503eb25f",
   "metadata": {},
   "outputs": [
    {
     "data": {
      "text/plain": [
       "tensor([[[0.4327, 0.3679],\n",
       "         [0.6799, 0.7965]],\n",
       "\n",
       "        [[0.5673, 0.6321],\n",
       "         [0.3201, 0.2035]]])"
      ]
     },
     "execution_count": 45,
     "metadata": {},
     "output_type": "execute_result"
    }
   ],
   "source": [
    "probs[:,:,:]"
   ]
  },
  {
   "cell_type": "code",
   "execution_count": 12,
   "id": "b9540b2a-a495-478c-8b8b-78e9a75d02da",
   "metadata": {},
   "outputs": [],
   "source": [
    "mock_batch = mock_inp.unsqueeze(dim=0)"
   ]
  },
  {
   "cell_type": "code",
   "execution_count": 49,
   "id": "4742f234-56a3-4b56-a7ba-b3981bf7eb8b",
   "metadata": {},
   "outputs": [],
   "source": [
    "import numpy as np"
   ]
  },
  {
   "cell_type": "code",
   "execution_count": 54,
   "id": "5d8b9357-d33e-482e-a036-53ed4323481d",
   "metadata": {},
   "outputs": [],
   "source": [
    "sum = np.log(0.4327) + np.log(0.6799) + np.log(0.6321) + np.log(0.2035)"
   ]
  },
  {
   "cell_type": "code",
   "execution_count": 55,
   "id": "6154a93b-7fc1-4133-990f-db4be9290cd4",
   "metadata": {},
   "outputs": [],
   "source": [
    "sum *= -1"
   ]
  },
  {
   "cell_type": "code",
   "execution_count": 56,
   "id": "0280cd93-a788-44a0-be4e-9c1ff61c3504",
   "metadata": {},
   "outputs": [
    {
     "data": {
      "text/plain": [
       "0.8185792814510982"
      ]
     },
     "execution_count": 56,
     "metadata": {},
     "output_type": "execute_result"
    }
   ],
   "source": [
    "sum / 4"
   ]
  },
  {
   "cell_type": "code",
   "execution_count": 31,
   "id": "1d36856d-657a-4452-9ee9-d243573800e1",
   "metadata": {},
   "outputs": [
    {
     "data": {
      "text/plain": [
       "torch.Size([1, 2, 2, 2])"
      ]
     },
     "execution_count": 31,
     "metadata": {},
     "output_type": "execute_result"
    }
   ],
   "source": [
    "mock_batch.shape"
   ]
  },
  {
   "cell_type": "code",
   "execution_count": 36,
   "id": "f1429160-0474-41d2-886d-67cb6ea0844a",
   "metadata": {},
   "outputs": [],
   "source": [
    "target = torch.LongTensor([[[0,1],[0,1]]])"
   ]
  },
  {
   "cell_type": "code",
   "execution_count": 37,
   "id": "b9875f0c-da4d-46f1-ad36-a0fdf65b22a7",
   "metadata": {},
   "outputs": [
    {
     "data": {
      "text/plain": [
       "tensor([[[0, 1],\n",
       "         [0, 1]]])"
      ]
     },
     "execution_count": 37,
     "metadata": {},
     "output_type": "execute_result"
    }
   ],
   "source": [
    "target[:,:]"
   ]
  },
  {
   "cell_type": "code",
   "execution_count": 46,
   "id": "235ef27e-e8b2-465c-b47e-3c86f31d165a",
   "metadata": {},
   "outputs": [],
   "source": [
    "loss = CrossEntropyLoss()"
   ]
  },
  {
   "cell_type": "code",
   "execution_count": 47,
   "id": "09219f58-bb1c-41e4-a6b4-1cabd50000ea",
   "metadata": {},
   "outputs": [],
   "source": [
    "output = loss(mock_batch, target)"
   ]
  },
  {
   "cell_type": "code",
   "execution_count": 48,
   "id": "54483a9f-09b9-4d0d-8b60-ba208894a6c1",
   "metadata": {},
   "outputs": [
    {
     "data": {
      "text/plain": [
       "tensor(0.8186)"
      ]
     },
     "execution_count": 48,
     "metadata": {},
     "output_type": "execute_result"
    }
   ],
   "source": [
    "# 1.422055521 / 4 = 0.3555\n",
    "output"
   ]
  },
  {
   "cell_type": "code",
   "execution_count": 59,
   "id": "74d029d0-d40d-4e71-86b6-6f0b03ae6b55",
   "metadata": {},
   "outputs": [],
   "source": [
    "class HeadSegmentationCrossEntropyLoss(torch.nn.CrossEntropyLoss):\n",
    "    def __init__(self, background_weight: float = 1.0, head_weight: float = 1.0):\n",
    "        super().__init__(weight=[background_weight, head_weight])"
   ]
  },
  {
   "cell_type": "code",
   "execution_count": 138,
   "id": "d0558db6-3896-4e6b-bc5d-92918c69fc85",
   "metadata": {},
   "outputs": [],
   "source": [
    "from torchmetrics import Metric\n",
    "from torchmetrics import ConfusionMatrix\n",
    "\n",
    "class Metric(Metric):\n",
    "    def __init__(self, dist_sync_on_step=False):\n",
    "        super().__init__(dist_sync_on_step=dist_sync_on_step)\n",
    "        \n",
    "        self.matrix = ConfusionMatrix(num_classes=2)\n",
    "        self.add_state(\"total\", default=torch.tensor(0), dist_reduce_fx=\"sum\")\n",
    "\n",
    "    def _update(self, preds: torch.Tensor, target: torch.Tensor):\n",
    "        assert preds.shape == target.shape\n",
    "        self.matrix.update(preds, target)\n",
    "        self.total += target.numel()\n",
    "\n",
    "    def _compute(self):\n",
    "        TP = self.matrix[0,0]\n",
    "        FN = self.matrix[0,1]\n",
    "        FP = self.matrix[1,0]\n",
    "        TN = self.matrix[1,1]\n",
    "        \n",
    "        accuracy = (TP + TN) / self.total\n",
    "        precision = TP / (TP + FP)\n",
    "        recall = TP / (TP + FN)\n",
    "        IoU = TP / (TP + FP + FN)\n",
    "        mIoU = IoU.mean\n",
    "        \n",
    "        return {\n",
    "            accuracy,\n",
    "            precision,\n",
    "            recall,\n",
    "            mIoU\n",
    "        }"
   ]
  }
 ],
 "metadata": {
  "kernelspec": {
   "display_name": "Python 3 (ipykernel)",
   "language": "python",
   "name": "python3"
  },
  "language_info": {
   "codemirror_mode": {
    "name": "ipython",
    "version": 3
   },
   "file_extension": ".py",
   "mimetype": "text/x-python",
   "name": "python",
   "nbconvert_exporter": "python",
   "pygments_lexer": "ipython3",
   "version": "3.8.10"
  }
 },
 "nbformat": 4,
 "nbformat_minor": 5
}
