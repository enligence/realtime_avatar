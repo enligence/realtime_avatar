{
 "cells": [
  {
   "cell_type": "markdown",
   "id": "f7da7733-d3a9-437d-a42f-731e302f3e68",
   "metadata": {},
   "source": [
    "# Raw dataset EDA"
   ]
  },
  {
   "cell_type": "code",
   "execution_count": 1,
   "id": "167671bd-4509-47e4-a159-4101e38944a8",
   "metadata": {},
   "outputs": [],
   "source": [
    "import os\n",
    "\n",
    "os.chdir(\"../..\")"
   ]
  },
  {
   "cell_type": "code",
   "execution_count": 2,
   "id": "4680bc37-6117-45f2-9569-c112b70e11d3",
   "metadata": {},
   "outputs": [
    {
     "name": "stdout",
     "output_type": "stream",
     "text": [
      "/Users/wiktorlazarski/Desktop/my_project/head-segmentation\n"
     ]
    }
   ],
   "source": [
    "!pwd"
   ]
  },
  {
   "cell_type": "code",
   "execution_count": 3,
   "id": "dc82aaf6-ea7b-4115-a42f-0a6b666a8f09",
   "metadata": {},
   "outputs": [],
   "source": [
    "import cv2\n",
    "import numpy as np\n",
    "import pandas as pd\n",
    "import matplotlib.pyplot as plt\n",
    "from pathlib import Path"
   ]
  },
  {
   "cell_type": "code",
   "execution_count": 4,
   "id": "8a746e28-6243-42f7-92ef-ea00d9d20853",
   "metadata": {},
   "outputs": [],
   "source": [
    "RAW_DSET_PATH = os.path.join(os.getcwd(), \"data\", \"celeba_raw\")"
   ]
  },
  {
   "cell_type": "code",
   "execution_count": 5,
   "id": "1b66dc1d-ae68-4be1-83fd-99eeebedbc48",
   "metadata": {},
   "outputs": [],
   "source": [
    "FILE_MAPPING_DATA_PATH = os.path.join(RAW_DSET_PATH, \"CelebA-HQ-to-CelebA-mapping.txt\")"
   ]
  },
  {
   "cell_type": "code",
   "execution_count": 6,
   "id": "f603dd96-cd6a-495e-8de7-db44ab180029",
   "metadata": {},
   "outputs": [],
   "source": [
    "with open(FILE_MAPPING_DATA_PATH, \"r\") as file:\n",
    "    lines = file.readlines()"
   ]
  },
  {
   "cell_type": "code",
   "execution_count": 7,
   "id": "a99caa48-f054-4f40-89b4-93cbb141339e",
   "metadata": {},
   "outputs": [],
   "source": [
    "headers = lines[0].split()[1:]"
   ]
  },
  {
   "cell_type": "code",
   "execution_count": 8,
   "id": "d690e10f-2fde-4ebd-995b-d66380908fc0",
   "metadata": {},
   "outputs": [
    {
     "data": {
      "text/plain": [
       "['orig_idx', 'orig_file']"
      ]
     },
     "execution_count": 8,
     "metadata": {},
     "output_type": "execute_result"
    }
   ],
   "source": [
    "headers"
   ]
  },
  {
   "cell_type": "code",
   "execution_count": 9,
   "id": "60183acb-2185-43f6-96d6-f444897f8b64",
   "metadata": {},
   "outputs": [],
   "source": [
    "samples = [sample.split()[1:] for sample in lines[1:]]"
   ]
  },
  {
   "cell_type": "code",
   "execution_count": 10,
   "id": "31b24366-db12-4edb-98fb-357b27b3e600",
   "metadata": {},
   "outputs": [
    {
     "data": {
      "text/plain": [
       "[['119613', '119614.jpg'],\n",
       " ['99094', '099095.jpg'],\n",
       " ['200121', '200122.jpg'],\n",
       " ['81059', '081060.jpg'],\n",
       " ['202040', '202041.jpg'],\n",
       " ['614', '000615.jpg'],\n",
       " ['50915', '050916.jpg'],\n",
       " ['166545', '166546.jpg'],\n",
       " ['143861', '143862.jpg'],\n",
       " ['101741', '101742.jpg']]"
      ]
     },
     "execution_count": 10,
     "metadata": {},
     "output_type": "execute_result"
    }
   ],
   "source": [
    "samples[:10]"
   ]
  },
  {
   "cell_type": "code",
   "execution_count": 11,
   "id": "6cc366d7-1670-4d32-a289-58bb959805d7",
   "metadata": {},
   "outputs": [],
   "source": [
    "mappings_df = pd.DataFrame(samples, columns=headers)"
   ]
  },
  {
   "cell_type": "code",
   "execution_count": 12,
   "id": "afc889ca-6382-4f23-a81c-0d0c42ffddaf",
   "metadata": {},
   "outputs": [
    {
     "data": {
      "text/html": [
       "<div>\n",
       "<style scoped>\n",
       "    .dataframe tbody tr th:only-of-type {\n",
       "        vertical-align: middle;\n",
       "    }\n",
       "\n",
       "    .dataframe tbody tr th {\n",
       "        vertical-align: top;\n",
       "    }\n",
       "\n",
       "    .dataframe thead th {\n",
       "        text-align: right;\n",
       "    }\n",
       "</style>\n",
       "<table border=\"1\" class=\"dataframe\">\n",
       "  <thead>\n",
       "    <tr style=\"text-align: right;\">\n",
       "      <th></th>\n",
       "      <th>orig_idx</th>\n",
       "      <th>orig_file</th>\n",
       "    </tr>\n",
       "  </thead>\n",
       "  <tbody>\n",
       "    <tr>\n",
       "      <th>0</th>\n",
       "      <td>119613</td>\n",
       "      <td>119614.jpg</td>\n",
       "    </tr>\n",
       "    <tr>\n",
       "      <th>1</th>\n",
       "      <td>99094</td>\n",
       "      <td>099095.jpg</td>\n",
       "    </tr>\n",
       "    <tr>\n",
       "      <th>2</th>\n",
       "      <td>200121</td>\n",
       "      <td>200122.jpg</td>\n",
       "    </tr>\n",
       "    <tr>\n",
       "      <th>3</th>\n",
       "      <td>81059</td>\n",
       "      <td>081060.jpg</td>\n",
       "    </tr>\n",
       "    <tr>\n",
       "      <th>4</th>\n",
       "      <td>202040</td>\n",
       "      <td>202041.jpg</td>\n",
       "    </tr>\n",
       "  </tbody>\n",
       "</table>\n",
       "</div>"
      ],
      "text/plain": [
       "  orig_idx   orig_file\n",
       "0   119613  119614.jpg\n",
       "1    99094  099095.jpg\n",
       "2   200121  200122.jpg\n",
       "3    81059  081060.jpg\n",
       "4   202040  202041.jpg"
      ]
     },
     "execution_count": 12,
     "metadata": {},
     "output_type": "execute_result"
    }
   ],
   "source": [
    "mappings_df.head()"
   ]
  },
  {
   "cell_type": "code",
   "execution_count": 13,
   "id": "aacd8a89-dfd9-4b99-8cbb-3629d1b9ef73",
   "metadata": {},
   "outputs": [],
   "source": [
    "ATTRIBS_DATA_PATH = os.path.join(RAW_DSET_PATH, \"CelebAMask-HQ-attribute-anno.txt\")"
   ]
  },
  {
   "cell_type": "code",
   "execution_count": 14,
   "id": "a47eeb05-b08c-4a4e-bb2f-34681563d305",
   "metadata": {},
   "outputs": [],
   "source": [
    "with open(ATTRIBS_DATA_PATH, \"r\") as file:\n",
    "    lines = file.readlines()"
   ]
  },
  {
   "cell_type": "code",
   "execution_count": 15,
   "id": "eebb3b40-d1ab-49eb-9afc-6d32f629dc1c",
   "metadata": {},
   "outputs": [
    {
     "data": {
      "text/plain": [
       "'30000\\n'"
      ]
     },
     "execution_count": 15,
     "metadata": {},
     "output_type": "execute_result"
    }
   ],
   "source": [
    "lines[0]"
   ]
  },
  {
   "cell_type": "code",
   "execution_count": 16,
   "id": "42e7293d-d6e7-4b20-9b5b-f2f0c6851060",
   "metadata": {},
   "outputs": [
    {
     "data": {
      "text/plain": [
       "30002"
      ]
     },
     "execution_count": 16,
     "metadata": {},
     "output_type": "execute_result"
    }
   ],
   "source": [
    "len(lines)"
   ]
  },
  {
   "cell_type": "code",
   "execution_count": 17,
   "id": "778e25ca-604e-42cb-b60b-f1b60ca06539",
   "metadata": {},
   "outputs": [],
   "source": [
    "headers = lines[1].split()"
   ]
  },
  {
   "cell_type": "code",
   "execution_count": 18,
   "id": "72868a3f-6677-46b6-9961-2ffcf426e040",
   "metadata": {},
   "outputs": [],
   "source": [
    "headers.insert(0, \"Filename\")"
   ]
  },
  {
   "cell_type": "code",
   "execution_count": 19,
   "id": "cf4da2f3-44a6-46c0-ad8d-7edd7eee5bd6",
   "metadata": {},
   "outputs": [
    {
     "data": {
      "text/plain": [
       "['Filename',\n",
       " '5_o_Clock_Shadow',\n",
       " 'Arched_Eyebrows',\n",
       " 'Attractive',\n",
       " 'Bags_Under_Eyes',\n",
       " 'Bald',\n",
       " 'Bangs',\n",
       " 'Big_Lips',\n",
       " 'Big_Nose',\n",
       " 'Black_Hair',\n",
       " 'Blond_Hair',\n",
       " 'Blurry',\n",
       " 'Brown_Hair',\n",
       " 'Bushy_Eyebrows',\n",
       " 'Chubby',\n",
       " 'Double_Chin',\n",
       " 'Eyeglasses',\n",
       " 'Goatee',\n",
       " 'Gray_Hair',\n",
       " 'Heavy_Makeup',\n",
       " 'High_Cheekbones',\n",
       " 'Male',\n",
       " 'Mouth_Slightly_Open',\n",
       " 'Mustache',\n",
       " 'Narrow_Eyes',\n",
       " 'No_Beard',\n",
       " 'Oval_Face',\n",
       " 'Pale_Skin',\n",
       " 'Pointy_Nose',\n",
       " 'Receding_Hairline',\n",
       " 'Rosy_Cheeks',\n",
       " 'Sideburns',\n",
       " 'Smiling',\n",
       " 'Straight_Hair',\n",
       " 'Wavy_Hair',\n",
       " 'Wearing_Earrings',\n",
       " 'Wearing_Hat',\n",
       " 'Wearing_Lipstick',\n",
       " 'Wearing_Necklace',\n",
       " 'Wearing_Necktie',\n",
       " 'Young']"
      ]
     },
     "execution_count": 19,
     "metadata": {},
     "output_type": "execute_result"
    }
   ],
   "source": [
    "headers"
   ]
  },
  {
   "cell_type": "code",
   "execution_count": 20,
   "id": "662e3edf-ffc9-45f9-81ee-ba15095b7188",
   "metadata": {},
   "outputs": [],
   "source": [
    "samples = [sample.split() for sample in lines[2:]]"
   ]
  },
  {
   "cell_type": "code",
   "execution_count": 21,
   "id": "ede4970b-10c1-42cf-99d6-54e299dcd1a2",
   "metadata": {},
   "outputs": [
    {
     "data": {
      "text/plain": [
       "41"
      ]
     },
     "execution_count": 21,
     "metadata": {},
     "output_type": "execute_result"
    }
   ],
   "source": [
    "len(headers)"
   ]
  },
  {
   "cell_type": "code",
   "execution_count": 22,
   "id": "bb3e3b1f-2c41-461c-87d2-76c2f8391609",
   "metadata": {},
   "outputs": [
    {
     "data": {
      "text/plain": [
       "41"
      ]
     },
     "execution_count": 22,
     "metadata": {},
     "output_type": "execute_result"
    }
   ],
   "source": [
    "len(samples[0])"
   ]
  },
  {
   "cell_type": "code",
   "execution_count": 23,
   "id": "c85a6019-3290-4f02-a7de-b487577dc6b5",
   "metadata": {},
   "outputs": [],
   "source": [
    "attribs_df = pd.DataFrame(samples, columns=headers)"
   ]
  },
  {
   "cell_type": "code",
   "execution_count": 24,
   "id": "ab2ed1ef-8b01-4ea8-b11b-7a69dd4fb4c7",
   "metadata": {},
   "outputs": [
    {
     "data": {
      "text/html": [
       "<div>\n",
       "<style scoped>\n",
       "    .dataframe tbody tr th:only-of-type {\n",
       "        vertical-align: middle;\n",
       "    }\n",
       "\n",
       "    .dataframe tbody tr th {\n",
       "        vertical-align: top;\n",
       "    }\n",
       "\n",
       "    .dataframe thead th {\n",
       "        text-align: right;\n",
       "    }\n",
       "</style>\n",
       "<table border=\"1\" class=\"dataframe\">\n",
       "  <thead>\n",
       "    <tr style=\"text-align: right;\">\n",
       "      <th></th>\n",
       "      <th>Filename</th>\n",
       "      <th>5_o_Clock_Shadow</th>\n",
       "      <th>Arched_Eyebrows</th>\n",
       "      <th>Attractive</th>\n",
       "      <th>Bags_Under_Eyes</th>\n",
       "      <th>Bald</th>\n",
       "      <th>Bangs</th>\n",
       "      <th>Big_Lips</th>\n",
       "      <th>Big_Nose</th>\n",
       "      <th>Black_Hair</th>\n",
       "      <th>...</th>\n",
       "      <th>Sideburns</th>\n",
       "      <th>Smiling</th>\n",
       "      <th>Straight_Hair</th>\n",
       "      <th>Wavy_Hair</th>\n",
       "      <th>Wearing_Earrings</th>\n",
       "      <th>Wearing_Hat</th>\n",
       "      <th>Wearing_Lipstick</th>\n",
       "      <th>Wearing_Necklace</th>\n",
       "      <th>Wearing_Necktie</th>\n",
       "      <th>Young</th>\n",
       "    </tr>\n",
       "  </thead>\n",
       "  <tbody>\n",
       "    <tr>\n",
       "      <th>0</th>\n",
       "      <td>0.jpg</td>\n",
       "      <td>-1</td>\n",
       "      <td>1</td>\n",
       "      <td>1</td>\n",
       "      <td>1</td>\n",
       "      <td>-1</td>\n",
       "      <td>-1</td>\n",
       "      <td>1</td>\n",
       "      <td>-1</td>\n",
       "      <td>-1</td>\n",
       "      <td>...</td>\n",
       "      <td>-1</td>\n",
       "      <td>1</td>\n",
       "      <td>-1</td>\n",
       "      <td>1</td>\n",
       "      <td>-1</td>\n",
       "      <td>-1</td>\n",
       "      <td>1</td>\n",
       "      <td>-1</td>\n",
       "      <td>-1</td>\n",
       "      <td>1</td>\n",
       "    </tr>\n",
       "    <tr>\n",
       "      <th>1</th>\n",
       "      <td>1.jpg</td>\n",
       "      <td>-1</td>\n",
       "      <td>1</td>\n",
       "      <td>1</td>\n",
       "      <td>-1</td>\n",
       "      <td>-1</td>\n",
       "      <td>-1</td>\n",
       "      <td>-1</td>\n",
       "      <td>-1</td>\n",
       "      <td>-1</td>\n",
       "      <td>...</td>\n",
       "      <td>-1</td>\n",
       "      <td>1</td>\n",
       "      <td>-1</td>\n",
       "      <td>1</td>\n",
       "      <td>-1</td>\n",
       "      <td>-1</td>\n",
       "      <td>1</td>\n",
       "      <td>-1</td>\n",
       "      <td>-1</td>\n",
       "      <td>1</td>\n",
       "    </tr>\n",
       "    <tr>\n",
       "      <th>2</th>\n",
       "      <td>2.jpg</td>\n",
       "      <td>-1</td>\n",
       "      <td>-1</td>\n",
       "      <td>1</td>\n",
       "      <td>1</td>\n",
       "      <td>-1</td>\n",
       "      <td>-1</td>\n",
       "      <td>1</td>\n",
       "      <td>-1</td>\n",
       "      <td>-1</td>\n",
       "      <td>...</td>\n",
       "      <td>-1</td>\n",
       "      <td>1</td>\n",
       "      <td>-1</td>\n",
       "      <td>1</td>\n",
       "      <td>1</td>\n",
       "      <td>-1</td>\n",
       "      <td>1</td>\n",
       "      <td>-1</td>\n",
       "      <td>-1</td>\n",
       "      <td>1</td>\n",
       "    </tr>\n",
       "    <tr>\n",
       "      <th>3</th>\n",
       "      <td>3.jpg</td>\n",
       "      <td>-1</td>\n",
       "      <td>-1</td>\n",
       "      <td>1</td>\n",
       "      <td>-1</td>\n",
       "      <td>-1</td>\n",
       "      <td>-1</td>\n",
       "      <td>-1</td>\n",
       "      <td>1</td>\n",
       "      <td>1</td>\n",
       "      <td>...</td>\n",
       "      <td>-1</td>\n",
       "      <td>1</td>\n",
       "      <td>-1</td>\n",
       "      <td>1</td>\n",
       "      <td>-1</td>\n",
       "      <td>-1</td>\n",
       "      <td>1</td>\n",
       "      <td>-1</td>\n",
       "      <td>-1</td>\n",
       "      <td>1</td>\n",
       "    </tr>\n",
       "    <tr>\n",
       "      <th>4</th>\n",
       "      <td>4.jpg</td>\n",
       "      <td>-1</td>\n",
       "      <td>-1</td>\n",
       "      <td>-1</td>\n",
       "      <td>-1</td>\n",
       "      <td>-1</td>\n",
       "      <td>-1</td>\n",
       "      <td>1</td>\n",
       "      <td>-1</td>\n",
       "      <td>-1</td>\n",
       "      <td>...</td>\n",
       "      <td>-1</td>\n",
       "      <td>-1</td>\n",
       "      <td>1</td>\n",
       "      <td>-1</td>\n",
       "      <td>1</td>\n",
       "      <td>-1</td>\n",
       "      <td>-1</td>\n",
       "      <td>-1</td>\n",
       "      <td>-1</td>\n",
       "      <td>1</td>\n",
       "    </tr>\n",
       "  </tbody>\n",
       "</table>\n",
       "<p>5 rows × 41 columns</p>\n",
       "</div>"
      ],
      "text/plain": [
       "  Filename 5_o_Clock_Shadow Arched_Eyebrows Attractive Bags_Under_Eyes Bald  \\\n",
       "0    0.jpg               -1               1          1               1   -1   \n",
       "1    1.jpg               -1               1          1              -1   -1   \n",
       "2    2.jpg               -1              -1          1               1   -1   \n",
       "3    3.jpg               -1              -1          1              -1   -1   \n",
       "4    4.jpg               -1              -1         -1              -1   -1   \n",
       "\n",
       "  Bangs Big_Lips Big_Nose Black_Hair  ... Sideburns Smiling Straight_Hair  \\\n",
       "0    -1        1       -1         -1  ...        -1       1            -1   \n",
       "1    -1       -1       -1         -1  ...        -1       1            -1   \n",
       "2    -1        1       -1         -1  ...        -1       1            -1   \n",
       "3    -1       -1        1          1  ...        -1       1            -1   \n",
       "4    -1        1       -1         -1  ...        -1      -1             1   \n",
       "\n",
       "  Wavy_Hair Wearing_Earrings Wearing_Hat Wearing_Lipstick Wearing_Necklace  \\\n",
       "0         1               -1          -1                1               -1   \n",
       "1         1               -1          -1                1               -1   \n",
       "2         1                1          -1                1               -1   \n",
       "3         1               -1          -1                1               -1   \n",
       "4        -1                1          -1               -1               -1   \n",
       "\n",
       "  Wearing_Necktie Young  \n",
       "0              -1     1  \n",
       "1              -1     1  \n",
       "2              -1     1  \n",
       "3              -1     1  \n",
       "4              -1     1  \n",
       "\n",
       "[5 rows x 41 columns]"
      ]
     },
     "execution_count": 24,
     "metadata": {},
     "output_type": "execute_result"
    }
   ],
   "source": [
    "attribs_df.head()"
   ]
  },
  {
   "cell_type": "code",
   "execution_count": 25,
   "id": "00d373b4-8f94-4b49-8408-19c102426e20",
   "metadata": {},
   "outputs": [],
   "source": [
    "attribs_df = attribs_df.applymap(lambda x: x if x != \"-1\" else 0)"
   ]
  },
  {
   "cell_type": "code",
   "execution_count": 26,
   "id": "2344b2a4-8270-4665-ab40-85ec4211859f",
   "metadata": {},
   "outputs": [],
   "source": [
    "IMAGES_DIR_PATH = Path(os.path.join(RAW_DSET_PATH, \"CelebA-HQ-img\"))\n",
    "MASKS_DIR_PATH = Path(os.path.join(RAW_DSET_PATH, \"CelebAMask-HQ-mask-anno\"))"
   ]
  },
  {
   "cell_type": "code",
   "execution_count": 27,
   "id": "5c864607-4f13-4c99-9551-bc0c52d3ac39",
   "metadata": {},
   "outputs": [
    {
     "data": {
      "text/html": [
       "<div>\n",
       "<style scoped>\n",
       "    .dataframe tbody tr th:only-of-type {\n",
       "        vertical-align: middle;\n",
       "    }\n",
       "\n",
       "    .dataframe tbody tr th {\n",
       "        vertical-align: top;\n",
       "    }\n",
       "\n",
       "    .dataframe thead th {\n",
       "        text-align: right;\n",
       "    }\n",
       "</style>\n",
       "<table border=\"1\" class=\"dataframe\">\n",
       "  <thead>\n",
       "    <tr style=\"text-align: right;\">\n",
       "      <th></th>\n",
       "      <th>Filename</th>\n",
       "      <th>5_o_Clock_Shadow</th>\n",
       "      <th>Arched_Eyebrows</th>\n",
       "      <th>Attractive</th>\n",
       "      <th>Bags_Under_Eyes</th>\n",
       "      <th>Bald</th>\n",
       "      <th>Bangs</th>\n",
       "      <th>Big_Lips</th>\n",
       "      <th>Big_Nose</th>\n",
       "      <th>Black_Hair</th>\n",
       "      <th>...</th>\n",
       "      <th>Sideburns</th>\n",
       "      <th>Smiling</th>\n",
       "      <th>Straight_Hair</th>\n",
       "      <th>Wavy_Hair</th>\n",
       "      <th>Wearing_Earrings</th>\n",
       "      <th>Wearing_Hat</th>\n",
       "      <th>Wearing_Lipstick</th>\n",
       "      <th>Wearing_Necklace</th>\n",
       "      <th>Wearing_Necktie</th>\n",
       "      <th>Young</th>\n",
       "    </tr>\n",
       "  </thead>\n",
       "  <tbody>\n",
       "    <tr>\n",
       "      <th>0</th>\n",
       "      <td>0.jpg</td>\n",
       "      <td>0</td>\n",
       "      <td>1</td>\n",
       "      <td>1</td>\n",
       "      <td>1</td>\n",
       "      <td>0</td>\n",
       "      <td>0</td>\n",
       "      <td>1</td>\n",
       "      <td>0</td>\n",
       "      <td>0</td>\n",
       "      <td>...</td>\n",
       "      <td>0</td>\n",
       "      <td>1</td>\n",
       "      <td>0</td>\n",
       "      <td>1</td>\n",
       "      <td>0</td>\n",
       "      <td>0</td>\n",
       "      <td>1</td>\n",
       "      <td>0</td>\n",
       "      <td>0</td>\n",
       "      <td>1</td>\n",
       "    </tr>\n",
       "    <tr>\n",
       "      <th>1</th>\n",
       "      <td>1.jpg</td>\n",
       "      <td>0</td>\n",
       "      <td>1</td>\n",
       "      <td>1</td>\n",
       "      <td>0</td>\n",
       "      <td>0</td>\n",
       "      <td>0</td>\n",
       "      <td>0</td>\n",
       "      <td>0</td>\n",
       "      <td>0</td>\n",
       "      <td>...</td>\n",
       "      <td>0</td>\n",
       "      <td>1</td>\n",
       "      <td>0</td>\n",
       "      <td>1</td>\n",
       "      <td>0</td>\n",
       "      <td>0</td>\n",
       "      <td>1</td>\n",
       "      <td>0</td>\n",
       "      <td>0</td>\n",
       "      <td>1</td>\n",
       "    </tr>\n",
       "    <tr>\n",
       "      <th>2</th>\n",
       "      <td>2.jpg</td>\n",
       "      <td>0</td>\n",
       "      <td>0</td>\n",
       "      <td>1</td>\n",
       "      <td>1</td>\n",
       "      <td>0</td>\n",
       "      <td>0</td>\n",
       "      <td>1</td>\n",
       "      <td>0</td>\n",
       "      <td>0</td>\n",
       "      <td>...</td>\n",
       "      <td>0</td>\n",
       "      <td>1</td>\n",
       "      <td>0</td>\n",
       "      <td>1</td>\n",
       "      <td>1</td>\n",
       "      <td>0</td>\n",
       "      <td>1</td>\n",
       "      <td>0</td>\n",
       "      <td>0</td>\n",
       "      <td>1</td>\n",
       "    </tr>\n",
       "    <tr>\n",
       "      <th>3</th>\n",
       "      <td>3.jpg</td>\n",
       "      <td>0</td>\n",
       "      <td>0</td>\n",
       "      <td>1</td>\n",
       "      <td>0</td>\n",
       "      <td>0</td>\n",
       "      <td>0</td>\n",
       "      <td>0</td>\n",
       "      <td>1</td>\n",
       "      <td>1</td>\n",
       "      <td>...</td>\n",
       "      <td>0</td>\n",
       "      <td>1</td>\n",
       "      <td>0</td>\n",
       "      <td>1</td>\n",
       "      <td>0</td>\n",
       "      <td>0</td>\n",
       "      <td>1</td>\n",
       "      <td>0</td>\n",
       "      <td>0</td>\n",
       "      <td>1</td>\n",
       "    </tr>\n",
       "    <tr>\n",
       "      <th>4</th>\n",
       "      <td>4.jpg</td>\n",
       "      <td>0</td>\n",
       "      <td>0</td>\n",
       "      <td>0</td>\n",
       "      <td>0</td>\n",
       "      <td>0</td>\n",
       "      <td>0</td>\n",
       "      <td>1</td>\n",
       "      <td>0</td>\n",
       "      <td>0</td>\n",
       "      <td>...</td>\n",
       "      <td>0</td>\n",
       "      <td>0</td>\n",
       "      <td>1</td>\n",
       "      <td>0</td>\n",
       "      <td>1</td>\n",
       "      <td>0</td>\n",
       "      <td>0</td>\n",
       "      <td>0</td>\n",
       "      <td>0</td>\n",
       "      <td>1</td>\n",
       "    </tr>\n",
       "    <tr>\n",
       "      <th>5</th>\n",
       "      <td>5.jpg</td>\n",
       "      <td>0</td>\n",
       "      <td>0</td>\n",
       "      <td>1</td>\n",
       "      <td>0</td>\n",
       "      <td>0</td>\n",
       "      <td>0</td>\n",
       "      <td>0</td>\n",
       "      <td>0</td>\n",
       "      <td>0</td>\n",
       "      <td>...</td>\n",
       "      <td>0</td>\n",
       "      <td>0</td>\n",
       "      <td>0</td>\n",
       "      <td>1</td>\n",
       "      <td>1</td>\n",
       "      <td>0</td>\n",
       "      <td>1</td>\n",
       "      <td>1</td>\n",
       "      <td>0</td>\n",
       "      <td>1</td>\n",
       "    </tr>\n",
       "    <tr>\n",
       "      <th>6</th>\n",
       "      <td>6.jpg</td>\n",
       "      <td>0</td>\n",
       "      <td>0</td>\n",
       "      <td>1</td>\n",
       "      <td>1</td>\n",
       "      <td>0</td>\n",
       "      <td>0</td>\n",
       "      <td>0</td>\n",
       "      <td>0</td>\n",
       "      <td>0</td>\n",
       "      <td>...</td>\n",
       "      <td>0</td>\n",
       "      <td>0</td>\n",
       "      <td>0</td>\n",
       "      <td>0</td>\n",
       "      <td>0</td>\n",
       "      <td>1</td>\n",
       "      <td>0</td>\n",
       "      <td>1</td>\n",
       "      <td>0</td>\n",
       "      <td>1</td>\n",
       "    </tr>\n",
       "    <tr>\n",
       "      <th>7</th>\n",
       "      <td>7.jpg</td>\n",
       "      <td>0</td>\n",
       "      <td>0</td>\n",
       "      <td>0</td>\n",
       "      <td>0</td>\n",
       "      <td>0</td>\n",
       "      <td>0</td>\n",
       "      <td>1</td>\n",
       "      <td>0</td>\n",
       "      <td>0</td>\n",
       "      <td>...</td>\n",
       "      <td>0</td>\n",
       "      <td>0</td>\n",
       "      <td>0</td>\n",
       "      <td>0</td>\n",
       "      <td>1</td>\n",
       "      <td>0</td>\n",
       "      <td>0</td>\n",
       "      <td>1</td>\n",
       "      <td>0</td>\n",
       "      <td>1</td>\n",
       "    </tr>\n",
       "    <tr>\n",
       "      <th>8</th>\n",
       "      <td>8.jpg</td>\n",
       "      <td>0</td>\n",
       "      <td>1</td>\n",
       "      <td>1</td>\n",
       "      <td>0</td>\n",
       "      <td>0</td>\n",
       "      <td>0</td>\n",
       "      <td>1</td>\n",
       "      <td>0</td>\n",
       "      <td>0</td>\n",
       "      <td>...</td>\n",
       "      <td>0</td>\n",
       "      <td>0</td>\n",
       "      <td>0</td>\n",
       "      <td>1</td>\n",
       "      <td>0</td>\n",
       "      <td>0</td>\n",
       "      <td>1</td>\n",
       "      <td>0</td>\n",
       "      <td>0</td>\n",
       "      <td>1</td>\n",
       "    </tr>\n",
       "    <tr>\n",
       "      <th>9</th>\n",
       "      <td>9.jpg</td>\n",
       "      <td>1</td>\n",
       "      <td>0</td>\n",
       "      <td>0</td>\n",
       "      <td>1</td>\n",
       "      <td>0</td>\n",
       "      <td>0</td>\n",
       "      <td>0</td>\n",
       "      <td>0</td>\n",
       "      <td>0</td>\n",
       "      <td>...</td>\n",
       "      <td>0</td>\n",
       "      <td>0</td>\n",
       "      <td>0</td>\n",
       "      <td>0</td>\n",
       "      <td>0</td>\n",
       "      <td>0</td>\n",
       "      <td>0</td>\n",
       "      <td>0</td>\n",
       "      <td>0</td>\n",
       "      <td>1</td>\n",
       "    </tr>\n",
       "  </tbody>\n",
       "</table>\n",
       "<p>10 rows × 41 columns</p>\n",
       "</div>"
      ],
      "text/plain": [
       "  Filename 5_o_Clock_Shadow Arched_Eyebrows Attractive Bags_Under_Eyes Bald  \\\n",
       "0    0.jpg                0               1          1               1    0   \n",
       "1    1.jpg                0               1          1               0    0   \n",
       "2    2.jpg                0               0          1               1    0   \n",
       "3    3.jpg                0               0          1               0    0   \n",
       "4    4.jpg                0               0          0               0    0   \n",
       "5    5.jpg                0               0          1               0    0   \n",
       "6    6.jpg                0               0          1               1    0   \n",
       "7    7.jpg                0               0          0               0    0   \n",
       "8    8.jpg                0               1          1               0    0   \n",
       "9    9.jpg                1               0          0               1    0   \n",
       "\n",
       "  Bangs Big_Lips Big_Nose Black_Hair  ... Sideburns Smiling Straight_Hair  \\\n",
       "0     0        1        0          0  ...         0       1             0   \n",
       "1     0        0        0          0  ...         0       1             0   \n",
       "2     0        1        0          0  ...         0       1             0   \n",
       "3     0        0        1          1  ...         0       1             0   \n",
       "4     0        1        0          0  ...         0       0             1   \n",
       "5     0        0        0          0  ...         0       0             0   \n",
       "6     0        0        0          0  ...         0       0             0   \n",
       "7     0        1        0          0  ...         0       0             0   \n",
       "8     0        1        0          0  ...         0       0             0   \n",
       "9     0        0        0          0  ...         0       0             0   \n",
       "\n",
       "  Wavy_Hair Wearing_Earrings Wearing_Hat Wearing_Lipstick Wearing_Necklace  \\\n",
       "0         1                0           0                1                0   \n",
       "1         1                0           0                1                0   \n",
       "2         1                1           0                1                0   \n",
       "3         1                0           0                1                0   \n",
       "4         0                1           0                0                0   \n",
       "5         1                1           0                1                1   \n",
       "6         0                0           1                0                1   \n",
       "7         0                1           0                0                1   \n",
       "8         1                0           0                1                0   \n",
       "9         0                0           0                0                0   \n",
       "\n",
       "  Wearing_Necktie Young  \n",
       "0               0     1  \n",
       "1               0     1  \n",
       "2               0     1  \n",
       "3               0     1  \n",
       "4               0     1  \n",
       "5               0     1  \n",
       "6               0     1  \n",
       "7               0     1  \n",
       "8               0     1  \n",
       "9               0     1  \n",
       "\n",
       "[10 rows x 41 columns]"
      ]
     },
     "execution_count": 27,
     "metadata": {},
     "output_type": "execute_result"
    }
   ],
   "source": [
    "attribs_df.head(n=10)"
   ]
  },
  {
   "cell_type": "code",
   "execution_count": 28,
   "id": "aefcf91d-9573-437e-8814-2125780ee0fa",
   "metadata": {},
   "outputs": [],
   "source": [
    "file9 = attribs_df[attribs_df.Filename == \"9.jpg\"].to_dict(\"list\")"
   ]
  },
  {
   "cell_type": "code",
   "execution_count": 29,
   "id": "56381eeb-7aaf-4b15-89d8-91189cf72ef6",
   "metadata": {},
   "outputs": [],
   "source": [
    "for k, v in file9.items():\n",
    "    if v[0] == 1:\n",
    "        print(k)"
   ]
  },
  {
   "cell_type": "code",
   "execution_count": 30,
   "id": "6c0805ab-7c1b-4df2-ab0b-8bd63cdfb1e7",
   "metadata": {},
   "outputs": [],
   "source": [
    "parts = set()\n",
    "for image_file in MASKS_DIR_PATH.rglob(\"*.png\"):\n",
    "    parts.add(image_file.stem[6:])"
   ]
  },
  {
   "cell_type": "code",
   "execution_count": 31,
   "id": "36585df6-3759-4ccf-8b35-fb37ea555796",
   "metadata": {},
   "outputs": [],
   "source": [
    "head_parts = {\n",
    "    \"ear_r\",\n",
    "    \"eye_g\",\n",
    "    \"hair\",\n",
    "    \"hat\",\n",
    "    \"l_brow\",\n",
    "    \"l_ear\",\n",
    "    \"l_eye\",\n",
    "    \"l_lip\",\n",
    "    \"mouth\",\n",
    "    \"nose\",\n",
    "    \"r_brow\",\n",
    "    \"r_ear\",\n",
    "    \"r_eye\",\n",
    "    \"skin\",\n",
    "    \"u_lip\"\n",
    "}"
   ]
  },
  {
   "cell_type": "code",
   "execution_count": 32,
   "id": "da723f9b-5140-44be-b59d-ad0ebc84cb4b",
   "metadata": {},
   "outputs": [
    {
     "data": {
      "text/plain": [
       "['cloth',\n",
       " 'ear_r',\n",
       " 'eye_g',\n",
       " 'hair',\n",
       " 'hat',\n",
       " 'l_brow',\n",
       " 'l_ear',\n",
       " 'l_eye',\n",
       " 'l_lip',\n",
       " 'mouth',\n",
       " 'neck',\n",
       " 'neck_l',\n",
       " 'nose',\n",
       " 'r_brow',\n",
       " 'r_ear',\n",
       " 'r_eye',\n",
       " 'skin',\n",
       " 'u_lip']"
      ]
     },
     "execution_count": 32,
     "metadata": {},
     "output_type": "execute_result"
    }
   ],
   "source": [
    "sorted(parts)"
   ]
  },
  {
   "cell_type": "code",
   "execution_count": 33,
   "id": "a1db90bd-2cdf-403b-835e-d1aa9e56c148",
   "metadata": {},
   "outputs": [],
   "source": [
    "mask_files = sorted(list(MASKS_DIR_PATH.rglob(\"*.png\")))"
   ]
  },
  {
   "cell_type": "code",
   "execution_count": 34,
   "id": "bcf036a4-a78d-4144-ba25-db6977d45032",
   "metadata": {},
   "outputs": [],
   "source": [
    "mask_dict = {}\n",
    "for mask_file in mask_files:\n",
    "    image_filename = mask_file.stem\n",
    "    \n",
    "    mask_type = image_filename[6:]\n",
    "    if mask_type not in head_parts:\n",
    "        continue\n",
    "    \n",
    "    image_id = image_filename[:5].lstrip(\"0\")\n",
    "    image_id = image_id if image_id else \"0\"\n",
    "    if image_id not in mask_dict.keys():\n",
    "        mask_dict[image_id] = []\n",
    "    \n",
    "    mask_dict[image_id].append(mask_file)"
   ]
  },
  {
   "cell_type": "code",
   "execution_count": 35,
   "id": "c75ccccd-6a52-4c35-b8a4-8ed7198ccfb5",
   "metadata": {},
   "outputs": [],
   "source": [
    "for image_id, mask_paths in mask_dict.items():\n",
    "    mask_images = [\n",
    "        cv2.imread(str(mask_file), cv2.IMREAD_GRAYSCALE) for mask_file in mask_paths\n",
    "    ]\n",
    "    break"
   ]
  },
  {
   "cell_type": "code",
   "execution_count": 36,
   "id": "0e2ddc48-041f-4101-b7ae-dacec616e02b",
   "metadata": {},
   "outputs": [
    {
     "data": {
      "text/plain": [
       "[PosixPath('/Users/wiktorlazarski/Desktop/my_project/head-segmentation/data/celeba_raw/CelebAMask-HQ-mask-anno/0/00000_hair.png'),\n",
       " PosixPath('/Users/wiktorlazarski/Desktop/my_project/head-segmentation/data/celeba_raw/CelebAMask-HQ-mask-anno/0/00000_l_brow.png'),\n",
       " PosixPath('/Users/wiktorlazarski/Desktop/my_project/head-segmentation/data/celeba_raw/CelebAMask-HQ-mask-anno/0/00000_l_eye.png'),\n",
       " PosixPath('/Users/wiktorlazarski/Desktop/my_project/head-segmentation/data/celeba_raw/CelebAMask-HQ-mask-anno/0/00000_l_lip.png'),\n",
       " PosixPath('/Users/wiktorlazarski/Desktop/my_project/head-segmentation/data/celeba_raw/CelebAMask-HQ-mask-anno/0/00000_mouth.png'),\n",
       " PosixPath('/Users/wiktorlazarski/Desktop/my_project/head-segmentation/data/celeba_raw/CelebAMask-HQ-mask-anno/0/00000_nose.png'),\n",
       " PosixPath('/Users/wiktorlazarski/Desktop/my_project/head-segmentation/data/celeba_raw/CelebAMask-HQ-mask-anno/0/00000_r_brow.png'),\n",
       " PosixPath('/Users/wiktorlazarski/Desktop/my_project/head-segmentation/data/celeba_raw/CelebAMask-HQ-mask-anno/0/00000_r_eye.png'),\n",
       " PosixPath('/Users/wiktorlazarski/Desktop/my_project/head-segmentation/data/celeba_raw/CelebAMask-HQ-mask-anno/0/00000_skin.png'),\n",
       " PosixPath('/Users/wiktorlazarski/Desktop/my_project/head-segmentation/data/celeba_raw/CelebAMask-HQ-mask-anno/0/00000_u_lip.png')]"
      ]
     },
     "execution_count": 36,
     "metadata": {},
     "output_type": "execute_result"
    }
   ],
   "source": [
    "mask_dict[\"0\"]"
   ]
  },
  {
   "cell_type": "code",
   "execution_count": 37,
   "id": "a60afd79-1271-49af-9f34-ffdd1c83616e",
   "metadata": {},
   "outputs": [
    {
     "data": {
      "text/plain": [
       "<matplotlib.image.AxesImage at 0x15e6fdeb0>"
      ]
     },
     "execution_count": 37,
     "metadata": {},
     "output_type": "execute_result"
    },
    {
     "data": {
      "image/png": "[encoded data removed]",
      "text/plain": [
       "<Figure size 576x432 with 1 Axes>"
      ]
     },
     "metadata": {
      "needs_background": "light"
     },
     "output_type": "display_data"
    }
   ],
   "source": [
    "segmap = cv2.resize(mask_images[0], (1024, 1024))\n",
    "\n",
    "plt.figure(figsize=(8,6))\n",
    "plt.imshow(segmap, cmap=\"gray\")"
   ]
  },
  {
   "cell_type": "code",
   "execution_count": 38,
   "id": "9f79e5a5-8227-461d-b6b5-eab058ede423",
   "metadata": {},
   "outputs": [
    {
     "data": {
      "text/plain": [
       "<matplotlib.image.AxesImage at 0x15e7dad60>"
      ]
     },
     "execution_count": 38,
     "metadata": {},
     "output_type": "execute_result"
    },
    {
     "data": {
      "image/png": "[encoded data removed]",
      "text/plain": [
       "<Figure size 576x432 with 1 Axes>"
      ]
     },
     "metadata": {
      "needs_background": "light"
     },
     "output_type": "display_data"
    }
   ],
   "source": [
    "plt.figure(figsize=(8,6))\n",
    "plt.imshow(mask_images[0], cmap=\"gray\")"
   ]
  },
  {
   "cell_type": "code",
   "execution_count": 39,
   "id": "3a7c3cc8-8b1e-4136-acf3-09090b1f6e0f",
   "metadata": {},
   "outputs": [
    {
     "data": {
      "text/plain": [
       "array([  0, 255], dtype=uint8)"
      ]
     },
     "execution_count": 39,
     "metadata": {},
     "output_type": "execute_result"
    }
   ],
   "source": [
    "np.unique(mask_images[0])"
   ]
  },
  {
   "cell_type": "code",
   "execution_count": 40,
   "id": "492f3251-7d0a-478e-86f8-7be123de11c0",
   "metadata": {},
   "outputs": [],
   "source": [
    "mask_images = np.array(mask_images)"
   ]
  },
  {
   "cell_type": "code",
   "execution_count": 41,
   "id": "74577339-4f6b-4d6b-b5a0-2701925cc0a2",
   "metadata": {},
   "outputs": [],
   "source": [
    "sumarr = mask_images.sum(axis=0)"
   ]
  },
  {
   "cell_type": "code",
   "execution_count": 42,
   "id": "b8e19176-a636-46a6-a975-9f0f47ee14a5",
   "metadata": {},
   "outputs": [
    {
     "data": {
      "text/plain": [
       "array([   0,  255,  510,  765, 1020], dtype=uint64)"
      ]
     },
     "execution_count": 42,
     "metadata": {},
     "output_type": "execute_result"
    }
   ],
   "source": [
    "np.unique(sumarr)"
   ]
  },
  {
   "cell_type": "code",
   "execution_count": 43,
   "id": "fc2d7989-6873-4915-9b2b-2378fffd6a6d",
   "metadata": {},
   "outputs": [],
   "source": [
    "sumarr[sumarr > 0] = 1"
   ]
  },
  {
   "cell_type": "code",
   "execution_count": 44,
   "id": "2346624a-bffa-4fd6-b16f-30e94d3052d1",
   "metadata": {},
   "outputs": [
    {
     "data": {
      "text/plain": [
       "array([0, 1], dtype=uint64)"
      ]
     },
     "execution_count": 44,
     "metadata": {},
     "output_type": "execute_result"
    }
   ],
   "source": [
    "np.unique(sumarr)"
   ]
  },
  {
   "cell_type": "code",
   "execution_count": 45,
   "id": "d8f46343-ae24-4032-89e2-234c0d77afc5",
   "metadata": {},
   "outputs": [
    {
     "data": {
      "text/plain": [
       "<matplotlib.image.AxesImage at 0x15e844490>"
      ]
     },
     "execution_count": 45,
     "metadata": {},
     "output_type": "execute_result"
    },
    {
     "data": {
      "image/png": "[encoded data removed]",
      "text/plain": [
       "<Figure size 576x432 with 1 Axes>"
      ]
     },
     "metadata": {
      "needs_background": "light"
     },
     "output_type": "display_data"
    }
   ],
   "source": [
    "plt.figure(figsize=(8,6))\n",
    "plt.imshow(sumarr, cmap=\"gray\")"
   ]
  },
  {
   "cell_type": "code",
   "execution_count": 46,
   "id": "14a70582-ddec-4db9-aeac-8eac24dba892",
   "metadata": {},
   "outputs": [
    {
     "data": {
      "text/plain": [
       "dtype('uint8')"
      ]
     },
     "execution_count": 46,
     "metadata": {},
     "output_type": "execute_result"
    }
   ],
   "source": [
    "mask_images[0].dtype"
   ]
  },
  {
   "cell_type": "code",
   "execution_count": 47,
   "id": "e9724c62-90c1-4e1e-988b-316abffe7306",
   "metadata": {},
   "outputs": [
    {
     "data": {
      "text/plain": [
       "(512, 512)"
      ]
     },
     "execution_count": 47,
     "metadata": {},
     "output_type": "execute_result"
    }
   ],
   "source": [
    "sumarr.shape"
   ]
  },
  {
   "cell_type": "code",
   "execution_count": 48,
   "id": "d9155baf-45ee-49eb-b245-d6d9b7d4b592",
   "metadata": {},
   "outputs": [],
   "source": [
    "sumarr2 = cv2.resize(sumarr.astype(np.uint8), (1024, 1024))"
   ]
  },
  {
   "cell_type": "code",
   "execution_count": 49,
   "id": "83abca1b-0e82-4792-823d-ffd505076262",
   "metadata": {},
   "outputs": [
    {
     "data": {
      "text/plain": [
       "<matplotlib.image.AxesImage at 0x15e897c40>"
      ]
     },
     "execution_count": 49,
     "metadata": {},
     "output_type": "execute_result"
    },
    {
     "data": {
      "image/png": "[encoded data removed]",
      "text/plain": [
       "<Figure size 576x432 with 1 Axes>"
      ]
     },
     "metadata": {
      "needs_background": "light"
     },
     "output_type": "display_data"
    }
   ],
   "source": [
    "plt.figure(figsize=(8,6))\n",
    "plt.imshow(sumarr2, cmap=\"gray\")"
   ]
  }
 ],
 "metadata": {
  "kernelspec": {
   "display_name": "Python 3 (ipykernel)",
   "language": "python",
   "name": "python3"
  },
  "language_info": {
   "codemirror_mode": {
    "name": "ipython",
    "version": 3
   },
   "file_extension": ".py",
   "mimetype": "text/x-python",
   "name": "python",
   "nbconvert_exporter": "python",
   "pygments_lexer": "ipython3",
   "version": "3.9.0"
  }
 },
 "nbformat": 4,
 "nbformat_minor": 5
}
